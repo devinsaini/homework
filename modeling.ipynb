{
 "cells": [
  {
   "cell_type": "markdown",
   "metadata": {},
   "source": [
    "# Modeling\n",
    "\n",
    "Based on our data analysis in the exploration.ipynb notebook, we will now build a model to predict the target label based on input features. We will use a neural network model.\n",
    "\n",
    "We'll also build a preprocessing pipeline to transform the data before feeding it into the model."
   ]
  },
  {
   "cell_type": "code",
   "execution_count": 1,
   "metadata": {},
   "outputs": [
    {
     "name": "stderr",
     "output_type": "stream",
     "text": [
      "2023-11-13 03:44:41.101311: I tensorflow/tsl/cuda/cudart_stub.cc:28] Could not find cuda drivers on your machine, GPU will not be used.\n",
      "2023-11-13 03:44:41.161276: E tensorflow/compiler/xla/stream_executor/cuda/cuda_dnn.cc:9342] Unable to register cuDNN factory: Attempting to register factory for plugin cuDNN when one has already been registered\n",
      "2023-11-13 03:44:41.161312: E tensorflow/compiler/xla/stream_executor/cuda/cuda_fft.cc:609] Unable to register cuFFT factory: Attempting to register factory for plugin cuFFT when one has already been registered\n",
      "2023-11-13 03:44:41.161401: E tensorflow/compiler/xla/stream_executor/cuda/cuda_blas.cc:1518] Unable to register cuBLAS factory: Attempting to register factory for plugin cuBLAS when one has already been registered\n",
      "2023-11-13 03:44:41.172978: I tensorflow/tsl/cuda/cudart_stub.cc:28] Could not find cuda drivers on your machine, GPU will not be used.\n",
      "2023-11-13 03:44:41.174170: I tensorflow/core/platform/cpu_feature_guard.cc:182] This TensorFlow binary is optimized to use available CPU instructions in performance-critical operations.\n",
      "To enable the following instructions: AVX2 FMA, in other operations, rebuild TensorFlow with the appropriate compiler flags.\n",
      "2023-11-13 03:44:42.607992: W tensorflow/compiler/tf2tensorrt/utils/py_utils.cc:38] TF-TRT Warning: Could not find TensorRT\n",
      "2023-11-13 03:44:44.289045: I tensorflow/compiler/xla/stream_executor/cuda/cuda_gpu_executor.cc:880] could not open file to read NUMA node: /sys/bus/pci/devices/0000:01:00.0/numa_node\n",
      "Your kernel may have been built without NUMA support.\n",
      "2023-11-13 03:44:44.289651: W tensorflow/core/common_runtime/gpu/gpu_device.cc:2211] Cannot dlopen some GPU libraries. Please make sure the missing libraries mentioned above are installed properly if you would like to use GPU. Follow the guide at https://www.tensorflow.org/install/gpu for how to download and setup the required libraries for your platform.\n",
      "Skipping registering GPU devices...\n"
     ]
    }
   ],
   "source": [
    "import tensorflow as tf\n",
    "import tensorflow_decision_forests as tfdf\n",
    "import pandas as pd\n",
    "\n",
    "TRAIN_CSV = 'data/train.csv'\n",
    "TEST_CSV = 'data/test.csv'\n",
    "\n",
    "drop_cols = [\"Vicuna\", \"Wallaby\", \"Turkey\", \"Tick\"]\n",
    "\n",
    "def proc_pipeline(filename: str, cols=None):\n",
    "    df = pd.read_csv(filename)\n",
    "    df = df.drop(columns=drop_cols)\n",
    "    df = df.astype({'Tiglon': 'string'})\n",
    "    df.loc[df['Tiglon'].isnull(), 'Tiglon'] = 'True'\n",
    "\n",
    "    numerical_cols = df.select_dtypes(include='number').columns.drop('target')\n",
    "    categorical_cols = df.select_dtypes(exclude='number').columns\n",
    "\n",
    "    # One-hot encoding\n",
    "    df_encoded = pd.get_dummies(df, columns=categorical_cols)\n",
    "\n",
    "    # merge numerical and ohe columns\n",
    "    df = pd.concat([df[numerical_cols], df_encoded], axis=1)\n",
    "\n",
    "    # drop columns that are not in training set\n",
    "    if cols is not None:\n",
    "        extra_cols = set(df.columns) - set(cols)\n",
    "        df = df.drop(columns=extra_cols)\n",
    "\n",
    "\n",
    "    x = tf.convert_to_tensor(df.drop(columns=['target']).values, dtype=tf.float32)\n",
    "    y = tf.convert_to_tensor(df['target'].values, dtype=tf.int32)\n",
    "    return x, y, df.columns\n",
    "\n",
    "X_train, y_train, train_cols = proc_pipeline(TRAIN_CSV)"
   ]
  },
  {
   "cell_type": "markdown",
   "metadata": {},
   "source": [
    "### Training"
   ]
  },
  {
   "cell_type": "code",
   "execution_count": 2,
   "metadata": {},
   "outputs": [
    {
     "name": "stdout",
     "output_type": "stream",
     "text": [
      "Epoch 1/10\n",
      "55/55 [==============================] - 3s 57ms/step - loss: 0.2563 - accuracy: 0.9005\n",
      "Epoch 2/10\n",
      "55/55 [==============================] - 3s 58ms/step - loss: 0.1474 - accuracy: 0.9453\n",
      "Epoch 3/10\n",
      "55/55 [==============================] - 3s 58ms/step - loss: 0.1231 - accuracy: 0.9539\n",
      "Epoch 4/10\n",
      "55/55 [==============================] - 3s 59ms/step - loss: 0.1035 - accuracy: 0.9580\n",
      "Epoch 5/10\n",
      "55/55 [==============================] - 4s 76ms/step - loss: 0.0910 - accuracy: 0.9629\n",
      "Epoch 6/10\n",
      "55/55 [==============================] - 3s 58ms/step - loss: 0.0813 - accuracy: 0.9689\n",
      "Epoch 7/10\n",
      "55/55 [==============================] - 3s 57ms/step - loss: 0.0592 - accuracy: 0.9764\n",
      "Epoch 8/10\n",
      "55/55 [==============================] - 3s 57ms/step - loss: 0.0552 - accuracy: 0.9779\n",
      "Epoch 9/10\n",
      "55/55 [==============================] - 3s 59ms/step - loss: 0.0458 - accuracy: 0.9816\n",
      "Epoch 10/10\n",
      "55/55 [==============================] - 3s 58ms/step - loss: 0.0350 - accuracy: 0.9876\n"
     ]
    },
    {
     "data": {
      "text/plain": [
       "<keras.src.callbacks.History at 0x7fb882b53280>"
      ]
     },
     "execution_count": 2,
     "metadata": {},
     "output_type": "execute_result"
    }
   ],
   "source": [
    "# define a model\n",
    "model = tf.keras.Sequential([\n",
    "    tf.keras.layers.BatchNormalization(),\n",
    "    tf.keras.layers.Dense(256, activation='relu'),\n",
    "    tf.keras.layers.Dense(256, activation='relu'),\n",
    "    tf.keras.layers.Dense(1)\n",
    "])\n",
    "\n",
    "model.compile(\n",
    "    optimizer='adam',\n",
    "    loss=tf.keras.losses.BinaryCrossentropy(from_logits=True),\n",
    "    metrics=['accuracy'],\n",
    "    run_eagerly=True\n",
    ")\n",
    "\n",
    "model.fit(X_train, y_train, epochs=10, batch_size=128)"
   ]
  },
  {
   "cell_type": "markdown",
   "metadata": {},
   "source": [
    "### Evaluation"
   ]
  },
  {
   "cell_type": "code",
   "execution_count": 3,
   "metadata": {},
   "outputs": [
    {
     "name": "stdout",
     "output_type": "stream",
     "text": [
      "33/33 [==============================] - 1s 15ms/step - loss: 7.4253 - accuracy: 0.5267\n"
     ]
    },
    {
     "data": {
      "text/plain": [
       "[7.425314903259277, 0.5266731381416321]"
      ]
     },
     "execution_count": 3,
     "metadata": {},
     "output_type": "execute_result"
    }
   ],
   "source": [
    "X_test, y_test, test_cols = proc_pipeline(TEST_CSV, train_cols)\n",
    "model.evaluate(X_test, y_test)"
   ]
  },
  {
   "cell_type": "markdown",
   "metadata": {},
   "source": [
    "From the evaluation metrics, we can see that the model didn't do very well on the test set. This could be because training and test sets are not representative of the population."
   ]
  },
  {
   "cell_type": "markdown",
   "metadata": {},
   "source": []
  }
 ],
 "metadata": {
  "kernelspec": {
   "display_name": "homework-zmPiI6Jn-py3.10",
   "language": "python",
   "name": "python3"
  },
  "language_info": {
   "codemirror_mode": {
    "name": "ipython",
    "version": 3
   },
   "file_extension": ".py",
   "mimetype": "text/x-python",
   "name": "python",
   "nbconvert_exporter": "python",
   "pygments_lexer": "ipython3",
   "version": "3.10.12"
  }
 },
 "nbformat": 4,
 "nbformat_minor": 2
}
